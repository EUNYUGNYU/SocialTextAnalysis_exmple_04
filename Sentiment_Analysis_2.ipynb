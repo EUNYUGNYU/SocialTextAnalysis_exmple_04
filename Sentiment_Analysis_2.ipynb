{
  "cells": [
    {
      "cell_type": "markdown",
      "metadata": {
        "id": "view-in-github",
        "colab_type": "text"
      },
      "source": [
        "<a href=\"https://colab.research.google.com/github/EUNYUGNYU/SocialTextAnalysis_exmple_04/blob/main/Sentiment_Analysis_2.ipynb\" target=\"_parent\"><img src=\"https://colab.research.google.com/assets/colab-badge.svg\" alt=\"Open In Colab\"/></a>"
      ]
    },
    {
      "cell_type": "markdown",
      "metadata": {
        "id": "apCRYWdjP9Ad"
      },
      "source": [
        "## Bag of Words Meets Bags of Popcorn\n",
        "\n",
        "# 튜토리얼 파트 2 Word Vectors\n",
        "\n",
        "* 딥러닝 기법인 Word2Vec을 통해 단어를 벡터화 해본다. \n",
        "* 차원축소 방법인 t-SNE를 통해 벡터화 한 데이터를 시각화 해본다.\n",
        "* 딥러닝과 지도학습의 랜덤포레스트를 사용하는 하이브리드 방식을 사용한다.\n",
        "* Word 임베딩 시보다 보통 낭비가 많고 성능이 떨어진다.\n",
        "\n",
        "## Word2Vec(Word Embedding to Vector)\n",
        "\n",
        "컴퓨터는 숫자만 인식할 수 있고 한글, 이미지는 바이너리 코드로 저장 된다.\n",
        "튜토리얼 파트1에서는  Bag of Word라는 개념을 사용해서 문자를 벡터화 하여 머신러닝 알고리즘이 이해할 수 있도록 벡터화 해주는 작업을 하였다.\n",
        "그러나 앞선 방식의 원-핫 벡터는 단어 벡터 간 유의미한 유사도를 계산할 수 없다는 단점이 있다. 그래서 단어 벡터 간 유의미한 유사도를 반영할 수 있도록 단어의 의미를 수치화 할 수 있는 방법이 필요한데, 이를 위해서 사용되는 대표적인 방법이 워드투벡터(Word2Vec)이다.\n",
        "\n",
        "\n",
        "* one hot encoding(예 [0000001000]) 혹은 Bag of Word에서 vector size가 매우 크고 sparse 하므로 neural net 성능이 잘 나오지 않는다.\n",
        "* `주위 단어가 비슷하면 해당 단어의 의미는 유사하다` 라는 아이디어\n",
        "* 단어를 트레이닝 시킬 때 주위 단어를 label로 매치하여 최적화\n",
        "* 단어를 `의미를 내포한 dense vector`로 매칭 시키는 것\n",
        "\n",
        "분산 표현(distributed representation) 방법은 기본적으로 분포 가설(distributional hypothesis)이라는 가정 하에 만들어진 표현 방법입니다. 이 가정은 '비슷한 문맥에서 등장하는 단어들은 비슷한 의미를 가진다' 라는 가정입니다. 강아지란 단어는 귀엽다, 예쁘다, 애교 등의 단어가 주로 함께 등장하는데 분포 가설에 따라서 해당 내용을 가진 텍스트의 단어들을 벡터화한다면 해당 단어 벡터들은 유사한 벡터값을 가집니다. 분산 표현은 분포 가설을 이용하여 텍스트를 학습하고, 단어의 의미를 벡터의 여러 차원에 분산하여 표현합니다.\n",
        "\n",
        "이렇게 표현된 벡터들은 원-핫 벡터처럼 벡터의 차원이 단어 집합(vocabulary)의 크기일 필요가 없으므로, 벡터의 차원이 상대적으로 저차원으로 줄어듭니다. 예를 들어 갖고 있는 텍스트 데이터에 단어가 10,000개 있고 인덱스는 0부터 시작하며 강아지란 단어의 인덱스는 4였다면 강아지란 단어를 표현하는 원-핫 벡터는 다음과 같습니다.\n",
        "\n",
        "Ex) 강아지 = [ 0 0 0 0 4 0 0 0 0 0 0 0 ... 중략 ... 0]\n",
        "\n",
        "1이란 값 뒤에 9,995개의 0의 값을 가지는 벡터가 됩니다. 하지만 Word2Vec으로 임베딩 된 벡터는 굳이 벡터 차원이 단어 집합의 크기가 될 필요가 없습니다. 강아지란 단어를 표현하기 위해 사용자가 설정한 차원의 수를 가지는 벡터가 되며 각 차원의 값은 실수값을 가집니다.\n",
        "\n",
        "Ex) 강아지 = [0.2 0.3 0.5 0.7 0.2 ... 중략 ... 0.2]\n",
        "\n",
        "요약하면 희소 표현이 고차원에 각 차원이 분리된 표현 방법이었다면, 분산 표현은 저차원에 단어의 의미를 여러 차원에다가 분산 하여 표현합니다. 이런 표현 방법을 사용하면 단어 벡터 간 유의미한 유사도를 계산할 수 있습니다. 이를 위한 대표적인 학습 방법이 Word2Vec입니다.\n",
        "\n",
        "\n",
        "![word2vec](https://1.bp.blogspot.com/-Q7F8ulD6fC0/UgvnVCSGmXI/AAAAAAAAAbg/MCWLTYBufhs/s1600/image00.gif)\n",
        "이미지 출처 : https://opensource.googleblog.com/2013/08/learning-meaning-behind-words.html\n",
        "\n",
        "* 단어의 임베딩과정을 실시간으로 시각화 : [word embedding visual inspector](https://ronxin.github.io/wevi/)\n",
        "\n",
        "\n",
        "![CBOW와 Skip-Gram](https://i.imgur.com/yXY1LxV.png)\n",
        "출처 : https://arxiv.org/pdf/1301.3781.pdf\n",
        " Tomas Mikolov, Ilya Sutskever, Kai Chen, Greg Corrado, and Jeffrey Dean. Distributed Representations of Words and Phrases and their Compositionality. In Proceedings of NIPS, 2013.\n",
        "\n",
        "\n",
        "* CBOW와 Skip-Gram기법이 있다.\n",
        "\n",
        "    * CBOW(continuous bag-of-words)는 전체 텍스트로 하나의 단어를 예측하기 때문에 작은 데이터셋일 수록 유리하다.    \n",
        "    * 아래 예제에서 __ 에 들어갈 단어를 예측한다.\n",
        "<pre>\n",
        "1) __가 맛있다. \n",
        "2) __를 타는 것이 재미있다. \n",
        "3) 평소보다 두 __로 많이 먹어서 __가 아프다.\n",
        "</pre>\n",
        "\n",
        "    * Skip-Gram은 타겟 단어들로부터 원본 단어를 역으로 예측하는 것이다. CBOW와는 반대로 컨텍스트-타겟 쌍을 새로운 발견으로 처리하고 큰 규모의 데이터셋을 가질 때 유리하다.\n",
        "    * `배`라는 단어 주변에 올 수 있는 단어를 예측한다.\n",
        "    \n",
        "    <pre>\n",
        "    1) *배*가 맛있다. \n",
        "    2) *배*를 타는 것이 재미있다. \n",
        "    3) 평소보다 두 *배*로 많이 먹어서 *배*가 아프다.\n",
        "    </pre>\n",
        "\n",
        "\n",
        "\n",
        "## Word2Vec 참고자료\n",
        "\n",
        "* [word2vec 모델 · 텐서플로우 문서 한글 번역본](https://tensorflowkorea.gitbooks.io/tensorflow-kr/g3doc/tutorials/word2vec/)\n",
        "* [Word2Vec으로 문장 분류하기 · ratsgo's blog](https://ratsgo.github.io/natural%20language%20processing/2017/03/08/word2vec/)\n",
        "\n",
        "* [Efficient Estimation of Word Representations in\n",
        "Vector Space](https://arxiv.org/pdf/1301.3781v3.pdf)\n",
        "* [Distributed Representations of Words and Phrases and their Compositionality](http://papers.nips.cc/paper/5021-distributed-representations-of-words-and-phrases-and-their-compositionality.pdf)\n",
        "* [CS224n: Natural Language Processing with Deep Learning](http://web.stanford.edu/class/cs224n/syllabus.html)\n",
        "* [Word2Vec Tutorial - The Skip-Gram Model · Chris McCormick](http://mccormickml.com/2016/04/19/word2vec-tutorial-the-skip-gram-model/)\n",
        "\n",
        "## Gensim\n",
        "\n",
        "* [gensim: models.word2vec – Deep learning with word2vec](https://radimrehurek.com/gensim/models/word2vec.html)\n",
        "* [gensim: Tutorials](https://radimrehurek.com/gensim/tutorial.html)\n",
        "* [한국어와 NLTK, Gensim의 만남 - PyCon Korea 2015](https://www.lucypark.kr/docs/2015-pyconkr/)\n",
        "\n",
        "\n"
      ]
    },
    {
      "cell_type": "code",
      "execution_count": null,
      "metadata": {
        "id": "eUVTuJPIP9At"
      },
      "outputs": [],
      "source": [
        "import warnings\n",
        "warnings.filterwarnings('ignore') # 워닝 무시"
      ]
    },
    {
      "cell_type": "code",
      "execution_count": null,
      "metadata": {
        "id": "rErY5nP4P9Ay",
        "outputId": "6818a420-4a5c-43dd-8eba-f25b638c6be3"
      },
      "outputs": [
        {
          "name": "stdout",
          "output_type": "stream",
          "text": [
            "(25000, 3)\n",
            "(25000, 2)\n",
            "(50000, 2)\n",
            "25000\n",
            "25000\n",
            "50000\n"
          ]
        }
      ],
      "source": [
        "import pandas as pd\n",
        "\n",
        "train = pd.read_csv('data/labeledTrainData.tsv', \n",
        "                    header=0, delimiter='\\t', quoting=3)\n",
        "test = pd.read_csv('data/testData.tsv', \n",
        "                   header=0, delimiter='\\t', quoting=3)\n",
        "unlabeled_train = pd.read_csv('data/unlabeledTrainData.tsv', \n",
        "                              header=0, delimiter='\\t', quoting=3)\n",
        "\n",
        "print(train.shape) # 이것만 라벨이 되어 있음\n",
        "print(test.shape)\n",
        "print(unlabeled_train.shape)\n",
        "\n",
        "print(train['review'].size)\n",
        "print(test['review'].size)\n",
        "print(unlabeled_train['review'].size)"
      ]
    },
    {
      "cell_type": "code",
      "execution_count": null,
      "metadata": {
        "id": "YXNs3pcTP9A2",
        "outputId": "c7d79744-a811-49a4-d262-f10af4ded305"
      },
      "outputs": [
        {
          "data": {
            "text/html": [
              "<div>\n",
              "<style scoped>\n",
              "    .dataframe tbody tr th:only-of-type {\n",
              "        vertical-align: middle;\n",
              "    }\n",
              "\n",
              "    .dataframe tbody tr th {\n",
              "        vertical-align: top;\n",
              "    }\n",
              "\n",
              "    .dataframe thead th {\n",
              "        text-align: right;\n",
              "    }\n",
              "</style>\n",
              "<table border=\"1\" class=\"dataframe\">\n",
              "  <thead>\n",
              "    <tr style=\"text-align: right;\">\n",
              "      <th></th>\n",
              "      <th>id</th>\n",
              "      <th>sentiment</th>\n",
              "      <th>review</th>\n",
              "    </tr>\n",
              "  </thead>\n",
              "  <tbody>\n",
              "    <tr>\n",
              "      <th>0</th>\n",
              "      <td>\"5814_8\"</td>\n",
              "      <td>1</td>\n",
              "      <td>\"With all this stuff going down at the moment ...</td>\n",
              "    </tr>\n",
              "    <tr>\n",
              "      <th>1</th>\n",
              "      <td>\"2381_9\"</td>\n",
              "      <td>1</td>\n",
              "      <td>\"\\\"The Classic War of the Worlds\\\" by Timothy ...</td>\n",
              "    </tr>\n",
              "    <tr>\n",
              "      <th>2</th>\n",
              "      <td>\"7759_3\"</td>\n",
              "      <td>0</td>\n",
              "      <td>\"The film starts with a manager (Nicholas Bell...</td>\n",
              "    </tr>\n",
              "    <tr>\n",
              "      <th>3</th>\n",
              "      <td>\"3630_4\"</td>\n",
              "      <td>0</td>\n",
              "      <td>\"It must be assumed that those who praised thi...</td>\n",
              "    </tr>\n",
              "    <tr>\n",
              "      <th>4</th>\n",
              "      <td>\"9495_8\"</td>\n",
              "      <td>1</td>\n",
              "      <td>\"Superbly trashy and wondrously unpretentious ...</td>\n",
              "    </tr>\n",
              "  </tbody>\n",
              "</table>\n",
              "</div>"
            ],
            "text/plain": [
              "         id  sentiment                                             review\n",
              "0  \"5814_8\"          1  \"With all this stuff going down at the moment ...\n",
              "1  \"2381_9\"          1  \"\\\"The Classic War of the Worlds\\\" by Timothy ...\n",
              "2  \"7759_3\"          0  \"The film starts with a manager (Nicholas Bell...\n",
              "3  \"3630_4\"          0  \"It must be assumed that those who praised thi...\n",
              "4  \"9495_8\"          1  \"Superbly trashy and wondrously unpretentious ..."
            ]
          },
          "execution_count": 3,
          "metadata": {},
          "output_type": "execute_result"
        }
      ],
      "source": [
        "train.head()"
      ]
    },
    {
      "cell_type": "code",
      "execution_count": null,
      "metadata": {
        "id": "Af8KU_7WP9A4",
        "outputId": "af88c6ac-164a-4b46-cfd4-31db49822d69"
      },
      "outputs": [
        {
          "data": {
            "text/html": [
              "<div>\n",
              "<style scoped>\n",
              "    .dataframe tbody tr th:only-of-type {\n",
              "        vertical-align: middle;\n",
              "    }\n",
              "\n",
              "    .dataframe tbody tr th {\n",
              "        vertical-align: top;\n",
              "    }\n",
              "\n",
              "    .dataframe thead th {\n",
              "        text-align: right;\n",
              "    }\n",
              "</style>\n",
              "<table border=\"1\" class=\"dataframe\">\n",
              "  <thead>\n",
              "    <tr style=\"text-align: right;\">\n",
              "      <th></th>\n",
              "      <th>id</th>\n",
              "      <th>review</th>\n",
              "    </tr>\n",
              "  </thead>\n",
              "  <tbody>\n",
              "    <tr>\n",
              "      <th>0</th>\n",
              "      <td>\"12311_10\"</td>\n",
              "      <td>\"Naturally in a film who's main themes are of ...</td>\n",
              "    </tr>\n",
              "    <tr>\n",
              "      <th>1</th>\n",
              "      <td>\"8348_2\"</td>\n",
              "      <td>\"This movie is a disaster within a disaster fi...</td>\n",
              "    </tr>\n",
              "    <tr>\n",
              "      <th>2</th>\n",
              "      <td>\"5828_4\"</td>\n",
              "      <td>\"All in all, this is a movie for kids. We saw ...</td>\n",
              "    </tr>\n",
              "    <tr>\n",
              "      <th>3</th>\n",
              "      <td>\"7186_2\"</td>\n",
              "      <td>\"Afraid of the Dark left me with the impressio...</td>\n",
              "    </tr>\n",
              "    <tr>\n",
              "      <th>4</th>\n",
              "      <td>\"12128_7\"</td>\n",
              "      <td>\"A very accurate depiction of small time mob l...</td>\n",
              "    </tr>\n",
              "  </tbody>\n",
              "</table>\n",
              "</div>"
            ],
            "text/plain": [
              "           id                                             review\n",
              "0  \"12311_10\"  \"Naturally in a film who's main themes are of ...\n",
              "1    \"8348_2\"  \"This movie is a disaster within a disaster fi...\n",
              "2    \"5828_4\"  \"All in all, this is a movie for kids. We saw ...\n",
              "3    \"7186_2\"  \"Afraid of the Dark left me with the impressio...\n",
              "4   \"12128_7\"  \"A very accurate depiction of small time mob l..."
            ]
          },
          "execution_count": 4,
          "metadata": {},
          "output_type": "execute_result"
        }
      ],
      "source": [
        "# train에 있는 평점정보인 sentiment가 없다.\n",
        "test.head()"
      ]
    },
    {
      "cell_type": "code",
      "execution_count": null,
      "metadata": {
        "id": "7_lHf_crP9A5"
      },
      "outputs": [],
      "source": [
        "from KaggleWord2VecUtility import KaggleWord2VecUtility # 아까전에 사용한 전처리 과정을 clss를 만들어줌"
      ]
    },
    {
      "cell_type": "code",
      "execution_count": null,
      "metadata": {
        "id": "uz6ipoZ-P9A7",
        "outputId": "c07afd87-1c8b-40fc-c621-5df2383a3b78"
      },
      "outputs": [
        {
          "data": {
            "text/plain": [
              "['with', 'all', 'this', 'stuff', 'go', 'down', 'at', 'the', 'moment', 'with']"
            ]
          },
          "execution_count": 6,
          "metadata": {},
          "output_type": "execute_result"
        }
      ],
      "source": [
        "KaggleWord2VecUtility.review_to_wordlist(train['review'][0])[:10]"
      ]
    },
    {
      "cell_type": "code",
      "execution_count": null,
      "metadata": {
        "id": "IieP6rNXP9A8"
      },
      "outputs": [],
      "source": [
        "sentences = []\n",
        "for review in train[\"review\"]:\n",
        "    sentences += KaggleWord2VecUtility.review_to_sentences(\n",
        "        review, remove_stopwords=False) #불용어 처리 x. 안할 때의 성능이 더 좋을 때가 많다"
      ]
    },
    {
      "cell_type": "code",
      "execution_count": null,
      "metadata": {
        "id": "NSTJYo86P9A-"
      },
      "outputs": [],
      "source": [
        "for review in unlabeled_train[\"review\"]:\n",
        "    sentences += KaggleWord2VecUtility.review_to_sentences(\n",
        "        review, remove_stopwords=False)"
      ]
    },
    {
      "cell_type": "code",
      "execution_count": null,
      "metadata": {
        "id": "fs_XDilHP9A_",
        "outputId": "66823439-9d70-4d23-a9e6-a68f33f21d5c"
      },
      "outputs": [
        {
          "data": {
            "text/plain": [
              "795538"
            ]
          },
          "execution_count": 9,
          "metadata": {},
          "output_type": "execute_result"
        }
      ],
      "source": [
        "len(sentences)"
      ]
    },
    {
      "cell_type": "code",
      "execution_count": null,
      "metadata": {
        "id": "hN_5x5ZVP9BA",
        "outputId": "57d2f18d-3a83-4328-b258-1835bdc95615"
      },
      "outputs": [
        {
          "data": {
            "text/plain": [
              "['with', 'all', 'this', 'stuff', 'go', 'down', 'at', 'the', 'moment', 'with']"
            ]
          },
          "execution_count": 10,
          "metadata": {},
          "output_type": "execute_result"
        }
      ],
      "source": [
        "sentences[0][:10]"
      ]
    },
    {
      "cell_type": "code",
      "execution_count": null,
      "metadata": {
        "id": "3g9yRK_MP9BC",
        "outputId": "25d804ff-4a3f-41c0-e29f-0ba439dd3fda"
      },
      "outputs": [
        {
          "data": {
            "text/plain": [
              "['mayb', 'i', 'just', 'want', 'to', 'get', 'a', 'certain', 'insight', 'into']"
            ]
          },
          "execution_count": 11,
          "metadata": {},
          "output_type": "execute_result"
        }
      ],
      "source": [
        "sentences[1][:10]"
      ]
    },
    {
      "cell_type": "markdown",
      "metadata": {
        "id": "8nVlJDelP9BD"
      },
      "source": [
        "### Word2Vec 모델을 학습\n",
        "전처리를 거쳐 파싱된 문장의 목록으로 모델을 학습시킬 준비가 되었다.\n",
        "\n",
        "## Gensim\n",
        "* 파이썬에서 제공하는 word2vec 라이브러리\n",
        "* [gensim: models.word2vec – Deep learning with word2vec](https://radimrehurek.com/gensim/models/word2vec.html)\n",
        "\n",
        "### Word2Vec 모델의 파라메터\n",
        "\n",
        "* 아키텍처 : 아키텍처 옵션은 skip-gram (default) 또는  CBOW 모델이다. skip-gram (default)은 느리지 만 더 나은 결과를 낸다.\n",
        "\n",
        "* 학습 알고리즘 : Hierarchical softmax (default) 또는 negative 샘플링. 여기에서는 기본값이 잘 동작한다.\n",
        "\n",
        "* 빈번하게 등장하는 단어에 대한 다운 샘플링 : Google 문서는 .00001에서 .001 사이의 값을 권장한다. 여기에서는 0.001에 가까운 값이 최종 모델의 정확도를 높이는 것으로 보여진다.\n",
        "\n",
        "* 단어 벡터 차원 : 많은 feature를 사용한다고 항상 좋은 것은 아니지만 대체적으로 좀 더 나은 모델이 된다. 합리적인 값은 수십에서 수백 개가 될 수 있고 여기에서는 300으로 지정했다.\n",
        "\n",
        "* 컨텍스트 / 창 크기 : 학습 알고리즘이 고려해야하는 컨텍스트의 단어 수는 얼마나 될까? hierarchical softmax 를 위해 좀 더 큰 수가 좋지만 10 정도가 적당하다. \n",
        "\n",
        "* Worker threads : 실행할 병렬 프로세스의 수로 컴퓨터마다 다르지만 대부분의 시스템에서 4에서 6 사이의 값을 사용하다.\n",
        "\n",
        "* 최소 단어 수 : 어휘의 크기를 의미있는 단어로 제한하는 데 도움이 된다. 모든 문서에서이 여러 번 발생하지 않는 단어는 무시된다. 10에서 100 사이가 적당하며, 이 경진대회의 데이터는 각 영화가 30개씩의 리뷰가 있기 때문에 개별 영화 제목에 너무 많은 중요성이 붙는 것을 피하기 위해 최소 단어 수를 40으로 설정한다. 그 결과 전체 어휘 크기는 약 15,000 단어가 된다. 최소 단어 수를 높은 값으로 설정할 수록 어휘 크기가 줄어들어 실행시간 단축에 도움이 된다."
      ]
    },
    {
      "cell_type": "code",
      "execution_count": null,
      "metadata": {
        "id": "x4uc3-hsP9BD",
        "outputId": "1b77cc68-6067-4017-9d82-5f211ab99766"
      },
      "outputs": [
        {
          "data": {
            "text/plain": [
              "<gensim.models.word2vec.Word2Vec at 0x7f4767d12190>"
            ]
          },
          "execution_count": 12,
          "metadata": {},
          "output_type": "execute_result"
        }
      ],
      "source": [
        "# 파라메터값 지정\n",
        "num_features = 300 # 문자 벡터 차원 수\n",
        "min_word_count = 40 # 최소 문자 수\n",
        "num_workers = 4 # 병렬 처리 스레드 수\n",
        "context = 10 # 문자열 창 크기\n",
        "downsampling = 0.001 # 문자 빈도 수 Downsample\n",
        "\n",
        "# 초기화 및 모델 학습\n",
        "from gensim.models import word2vec\n",
        "\n",
        "# 모델 학습\n",
        "%time model = word2vec.Word2Vec(sentences, \n",
        "                          workers=num_workers, \n",
        "                          vector_size=num_features, \n",
        "                          min_count=min_word_count,\n",
        "                          window=context,\n",
        "                          sample=downsampling)\n",
        "model"
      ]
    },
    {
      "cell_type": "code",
      "execution_count": null,
      "metadata": {
        "id": "fIVDNk8oP9BE"
      },
      "outputs": [],
      "source": [
        "# 학습이 완료 되면 필요없는 메모리를 unload 시킨다.\n",
        "model.init_sims(replace=True)\n",
        "\n",
        "model_name = '300features_40minwords_10text'\n",
        "# model_name = '300features_50minwords_20text'\n",
        "model.save(model_name)"
      ]
    },
    {
      "cell_type": "markdown",
      "metadata": {
        "id": "1QzmrIQBP9BE"
      },
      "source": [
        "## 모델 결과 탐색 \n",
        "Exploring the Model Results"
      ]
    },
    {
      "cell_type": "code",
      "execution_count": null,
      "metadata": {
        "id": "iYlal18GP9BF",
        "outputId": "27cc7931-6083-41a1-cb7b-c084745cb829"
      },
      "outputs": [
        {
          "data": {
            "text/plain": [
              "'kitchen'"
            ]
          },
          "execution_count": 14,
          "metadata": {},
          "output_type": "execute_result"
        }
      ],
      "source": [
        "# 유사도가 없는 단어 추출\n",
        "model.wv.doesnt_match('man woman child kitchen'.split())"
      ]
    },
    {
      "cell_type": "code",
      "execution_count": null,
      "metadata": {
        "id": "wcjIDbotP9BK",
        "outputId": "2f425671-3ff6-4ab5-9c92-345e81f410fd"
      },
      "outputs": [
        {
          "data": {
            "text/plain": [
              "'berlin'"
            ]
          },
          "execution_count": 15,
          "metadata": {},
          "output_type": "execute_result"
        }
      ],
      "source": [
        "model.wv.doesnt_match(\"korea england china berlin\".split()) # 베를린 제외 나머지는 나라"
      ]
    },
    {
      "cell_type": "code",
      "execution_count": null,
      "metadata": {
        "id": "D9rSyTlPP9BL",
        "outputId": "bc14622d-edaf-432b-ddd1-b5d87040b5e0"
      },
      "outputs": [
        {
          "data": {
            "text/plain": [
              "[('woman', 0.6363319158554077),\n",
              " ('lad', 0.5191575884819031),\n",
              " ('millionair', 0.5101150274276733),\n",
              " ('businessman', 0.5050339698791504),\n",
              " ('ladi', 0.49302032589912415),\n",
              " ('farmer', 0.48735564947128296),\n",
              " ('men', 0.4781552255153656),\n",
              " ('widow', 0.46674004197120667),\n",
              " ('loner', 0.4593566656112671),\n",
              " ('boxer', 0.45487886667251587)]"
            ]
          },
          "execution_count": 16,
          "metadata": {},
          "output_type": "execute_result"
        }
      ],
      "source": [
        "# 가장 유사한 단어를 추출\n",
        "model.wv.most_similar(\"man\") # 의미적인 유사성을 의미하는 것이 아님. 주변 단어를 보고 유사도를 결정. (=쓰임이 비슷하다)"
      ]
    },
    {
      "cell_type": "code",
      "execution_count": null,
      "metadata": {
        "id": "pOKtQ-67P9BL",
        "outputId": "ca10f135-815f-4b19-991c-6ce5f7411b84"
      },
      "outputs": [
        {
          "data": {
            "text/plain": [
              "[('princess', 0.578930139541626),\n",
              " ('latifah', 0.5629622936248779),\n",
              " ('victoria', 0.560265064239502),\n",
              " ('maid', 0.5558750629425049),\n",
              " ('mistress', 0.5488141179084778),\n",
              " ('stepmoth', 0.5407489538192749),\n",
              " ('bride', 0.5391724705696106),\n",
              " ('bombshel', 0.5226526260375977),\n",
              " ('vixen', 0.522578775882721),\n",
              " ('eva', 0.5220555067062378)]"
            ]
          },
          "execution_count": 17,
          "metadata": {},
          "output_type": "execute_result"
        }
      ],
      "source": [
        "model.wv.most_similar(\"queen\")"
      ]
    },
    {
      "cell_type": "code",
      "execution_count": null,
      "metadata": {
        "id": "vvgrd1yZP9BM"
      },
      "outputs": [],
      "source": [
        "# model.wv.most_similar(\"awful\")"
      ]
    },
    {
      "cell_type": "code",
      "execution_count": null,
      "metadata": {
        "scrolled": true,
        "id": "aAiRcStyP9BM",
        "outputId": "795ceef1-0fb4-4e9e-ef93-a3476f90f217"
      },
      "outputs": [
        {
          "data": {
            "text/plain": [
              "[('movi', 0.8548797369003296),\n",
              " ('flick', 0.604011058807373),\n",
              " ('documentari', 0.5622227191925049),\n",
              " ('pictur', 0.5438783764839172),\n",
              " ('cinema', 0.517697811126709),\n",
              " ('it', 0.4950599670410156),\n",
              " ('masterpiec', 0.48938944935798645),\n",
              " ('sequel', 0.4816361665725708),\n",
              " ('thriller', 0.47641175985336304),\n",
              " ('genr', 0.4745411276817322)]"
            ]
          },
          "execution_count": 19,
          "metadata": {},
          "output_type": "execute_result"
        }
      ],
      "source": [
        "model.wv.most_similar(\"film\")"
      ]
    },
    {
      "cell_type": "code",
      "execution_count": null,
      "metadata": {
        "id": "YdfOngTRP9BN",
        "outputId": "560243a7-c839-4d08-c991-d682afe2fbc6"
      },
      "outputs": [
        {
          "data": {
            "text/plain": [
              "[('unhappi', 0.4239004850387573),\n",
              " ('sad', 0.40082475543022156),\n",
              " ('afraid', 0.37882304191589355),\n",
              " ('glad', 0.3725886642932892),\n",
              " ('bitter', 0.36134403944015503),\n",
              " ('satisfi', 0.3569011688232422),\n",
              " ('happier', 0.35549086332321167),\n",
              " ('upset', 0.35244715213775635),\n",
              " ('readi', 0.3515112102031708),\n",
              " ('joy', 0.35096704959869385)]"
            ]
          },
          "execution_count": 20,
          "metadata": {},
          "output_type": "execute_result"
        }
      ],
      "source": [
        "# model.wv.most_similar(\"happy\")\n",
        "model.wv.most_similar(\"happi\") # stemming 처리 시 "
      ]
    },
    {
      "cell_type": "markdown",
      "metadata": {
        "id": "M_yRI9W2P9BN"
      },
      "source": [
        "### Word2Vec으로 벡터화 한 단어를 t-SNE 를 통해 시각화"
      ]
    },
    {
      "cell_type": "markdown",
      "metadata": {
        "id": "XGWbhk3OP9BO"
      },
      "source": [
        "t-SNE란?\n",
        "- 비지도 학습의 종류 중 하나인 비지도 변환의 일종으로 데이터를 새롭게 표현하여 사람이나 다른 머신러닝 알고리즘이 원래 데이터보다 쉽게 해석할 수 있도록 만드는 알고리즘이라고 할 수 있다. t-SNE의 아이디어는 데이터 포인트 사이의 거리를 가장 잘 보존하는 2차원 표현을 찾는 것이다. 먼저 각 데이터 포인트를 2차원에 무작위로 표현한 후 원본 특성 공간에서 가까운 포인트는 가깝게, 멀리 떨어진 포인트는 멀어지게 만든다.\n",
        "\n",
        "=> 아까 벡터화때문에 300차원으로 변경. 시각화를 위해 다시 2차원으로 변경해서 시각화하는 것이라고 생각하면 됨"
      ]
    },
    {
      "cell_type": "code",
      "execution_count": null,
      "metadata": {
        "id": "Wuz2fJfVP9BO"
      },
      "outputs": [],
      "source": [
        "# 참고 https://stackoverflow.com/questions/43776572/visualise-word2vec-generated-from-gensim\n",
        "from sklearn.manifold import TSNE\n",
        "import matplotlib as mpl\n",
        "import matplotlib.pyplot as plt\n",
        "import gensim \n",
        "import gensim.models as g\n",
        "\n",
        "# 그래프에서 마이너스 폰트 깨지는 문제에 대한 대처\n",
        "mpl.rcParams['axes.unicode_minus'] = False\n",
        "\n",
        "model_name = '300features_40minwords_10text'\n",
        "model = g.Doc2Vec.load(model_name)"
      ]
    },
    {
      "cell_type": "code",
      "execution_count": null,
      "metadata": {
        "id": "Ce5ToU7HP9BO"
      },
      "outputs": [],
      "source": [
        "vocab = list(model.wv.index_to_key)\n",
        "X = model.wv[vocab]"
      ]
    },
    {
      "cell_type": "code",
      "execution_count": null,
      "metadata": {
        "id": "lTXXX1J6P9BP",
        "outputId": "4e80c8ca-bf9c-41cc-fcf2-17ecd372d439"
      },
      "outputs": [
        {
          "name": "stdout",
          "output_type": "stream",
          "text": [
            "11986\n",
            "[ 0.04565968  0.00031052  0.03085555 -0.08045289 -0.00533688 -0.04525013\n",
            "  0.0134431   0.11894035  0.0142404   0.0831979 ]\n"
          ]
        }
      ],
      "source": [
        "print(len(X))\n",
        "print(X[0][:10])\n",
        "tsne = TSNE(n_components=2)\n",
        "\n",
        "# 100개의 단어에 대해서만 시각화\n",
        "X_tsne = tsne.fit_transform(X[:100,:])\n",
        "# X_tsne = tsne.fit_transform(X)"
      ]
    },
    {
      "cell_type": "code",
      "execution_count": null,
      "metadata": {
        "id": "vYQXgduzP9BP",
        "outputId": "0812956a-93bb-49ee-fe2d-a566f03627d2"
      },
      "outputs": [
        {
          "data": {
            "text/plain": [
              "(100, 2)"
            ]
          },
          "execution_count": 24,
          "metadata": {},
          "output_type": "execute_result"
        }
      ],
      "source": [
        "df = pd.DataFrame(X_tsne, index=vocab[:100], columns=['x', 'y'])\n",
        "df.shape"
      ]
    },
    {
      "cell_type": "code",
      "execution_count": null,
      "metadata": {
        "id": "TaFDrWiGP9BQ",
        "outputId": "f3cb81f6-6537-49a3-96f5-0a2cc7f7715f"
      },
      "outputs": [
        {
          "data": {
            "text/html": [
              "<div>\n",
              "<style scoped>\n",
              "    .dataframe tbody tr th:only-of-type {\n",
              "        vertical-align: middle;\n",
              "    }\n",
              "\n",
              "    .dataframe tbody tr th {\n",
              "        vertical-align: top;\n",
              "    }\n",
              "\n",
              "    .dataframe thead th {\n",
              "        text-align: right;\n",
              "    }\n",
              "</style>\n",
              "<table border=\"1\" class=\"dataframe\">\n",
              "  <thead>\n",
              "    <tr style=\"text-align: right;\">\n",
              "      <th></th>\n",
              "      <th>x</th>\n",
              "      <th>y</th>\n",
              "    </tr>\n",
              "  </thead>\n",
              "  <tbody>\n",
              "    <tr>\n",
              "      <th>the</th>\n",
              "      <td>-3.643236</td>\n",
              "      <td>-7.152431</td>\n",
              "    </tr>\n",
              "    <tr>\n",
              "      <th>and</th>\n",
              "      <td>3.260982</td>\n",
              "      <td>-4.012214</td>\n",
              "    </tr>\n",
              "    <tr>\n",
              "      <th>a</th>\n",
              "      <td>-3.897493</td>\n",
              "      <td>-7.729277</td>\n",
              "    </tr>\n",
              "    <tr>\n",
              "      <th>of</th>\n",
              "      <td>7.565133</td>\n",
              "      <td>-1.643281</td>\n",
              "    </tr>\n",
              "    <tr>\n",
              "      <th>to</th>\n",
              "      <td>4.736948</td>\n",
              "      <td>-5.137868</td>\n",
              "    </tr>\n",
              "    <tr>\n",
              "      <th>is</th>\n",
              "      <td>7.661881</td>\n",
              "      <td>4.866781</td>\n",
              "    </tr>\n",
              "    <tr>\n",
              "      <th>it</th>\n",
              "      <td>-2.178567</td>\n",
              "      <td>-2.262203</td>\n",
              "    </tr>\n",
              "    <tr>\n",
              "      <th>in</th>\n",
              "      <td>8.053914</td>\n",
              "      <td>-2.448141</td>\n",
              "    </tr>\n",
              "    <tr>\n",
              "      <th>i</th>\n",
              "      <td>-1.123675</td>\n",
              "      <td>-4.861535</td>\n",
              "    </tr>\n",
              "    <tr>\n",
              "      <th>this</th>\n",
              "      <td>-2.227842</td>\n",
              "      <td>-3.008655</td>\n",
              "    </tr>\n",
              "  </tbody>\n",
              "</table>\n",
              "</div>"
            ],
            "text/plain": [
              "             x         y\n",
              "the  -3.643236 -7.152431\n",
              "and   3.260982 -4.012214\n",
              "a    -3.897493 -7.729277\n",
              "of    7.565133 -1.643281\n",
              "to    4.736948 -5.137868\n",
              "is    7.661881  4.866781\n",
              "it   -2.178567 -2.262203\n",
              "in    8.053914 -2.448141\n",
              "i    -1.123675 -4.861535\n",
              "this -2.227842 -3.008655"
            ]
          },
          "execution_count": 25,
          "metadata": {},
          "output_type": "execute_result"
        }
      ],
      "source": [
        "df.head(10)"
      ]
    },
    {
      "cell_type": "code",
      "execution_count": null,
      "metadata": {
        "id": "ZMwGN5fdP9BR",
        "outputId": "fd7fd2e9-c797-4a0d-a277-1a0cc696c841"
      },
      "outputs": [
        {
          "data": {
            "image/png": "[encoded data removed]",
            "text/plain": [
              "<Figure size 2880x1440 with 1 Axes>"
            ]
          },
          "metadata": {
            "needs_background": "light"
          },
          "output_type": "display_data"
        }
      ],
      "source": [
        "fig = plt.figure()\n",
        "fig.set_size_inches(40, 20)\n",
        "ax = fig.add_subplot(1, 1, 1)\n",
        "\n",
        "ax.scatter(df['x'], df['y'])\n",
        "\n",
        "for word, pos in df.iterrows():\n",
        "    ax.annotate(word, pos, fontsize=30)\n",
        "plt.show()"
      ]
    },
    {
      "cell_type": "code",
      "execution_count": null,
      "metadata": {
        "id": "Z8bkjIvzP9BR"
      },
      "outputs": [],
      "source": [
        "# 현재 리뷰마다 임력값이 모두 다른 형태. \n",
        "\n",
        "import numpy as np\n",
        "\n",
        "def makeFeatureVec(words, model, num_features):\n",
        "    \"\"\"\n",
        "    주어진 문장에서 단어 벡터의 평균을 구하는 함수\n",
        "    \"\"\"\n",
        "    # 속도를 위해 0으로 채운 배열로 초기화 한다.\n",
        "    featureVec = np.zeros((num_features,),dtype=\"float32\") # 현재 numm_features 는 300\n",
        "\n",
        "    nwords = 0.\n",
        "    # Index2word는 모델의 사전에 있는 단어명을 담은 리스트이다.\n",
        "    # 속도를 위해 set 형태로 초기화 한다.\n",
        "    index2word_set = set(model.wv.index_to_key)\n",
        "    # 루프를 돌며 모델 사전에 포함이 되는 단어라면 피처에 추가한다.\n",
        "    for word in words:\n",
        "        if word in index2word_set:\n",
        "            nwords = nwords + 1.\n",
        "            featureVec = np.add(featureVec,model.wv[word])\n",
        "    # 결과를 단어수로 나누어 평균을 구한다. (평균이 아니여도 됨)\n",
        "    featureVec = np.divide(featureVec,nwords)\n",
        "    return featureVec"
      ]
    },
    {
      "cell_type": "code",
      "execution_count": null,
      "metadata": {
        "id": "a5N7Py_LP9BS"
      },
      "outputs": [],
      "source": [
        "def getAvgFeatureVecs(reviews, model, num_features):\n",
        "    # 리뷰 단어 목록의 각각에 대한 평균 feature 벡터를 계산하고 \n",
        "    # 2D numpy 배열을 반환한다.\n",
        "    \n",
        "    # 카운터를 초기화 한다.\n",
        "    counter = 0.\n",
        "    # 속도를 위해 2D 넘파이 배열을 미리 할당한다.\n",
        "    reviewFeatureVecs = np.zeros(\n",
        "        (len(reviews),num_features),dtype=\"float32\")\n",
        "    \n",
        "    for review in reviews:\n",
        "       # 매 1000개 리뷰마다 상태를 출력\n",
        "       if counter%1000. == 0.:\n",
        "           print(\"Review %d of %d\" % (counter, len(reviews)))\n",
        "       # 평균 피처 벡터를 만들기 위해 위에서 정의한 함수를 호출한다.\n",
        "       reviewFeatureVecs[int(counter)] = makeFeatureVec(review, model, \\\n",
        "           num_features)\n",
        "       # 카운터를 증가시킨다.\n",
        "       counter = counter + 1.\n",
        "    return reviewFeatureVecs"
      ]
    },
    {
      "cell_type": "code",
      "execution_count": null,
      "metadata": {
        "id": "vrwD4kMJP9BS"
      },
      "outputs": [],
      "source": [
        "# 멀티스레드로 4개의 워커를 사용해 처리한다.\n",
        "def getCleanReviews(reviews):\n",
        "    clean_reviews = []\n",
        "    clean_reviews = KaggleWord2VecUtility.apply_by_multiprocessing(\\\n",
        "        reviews[\"review\"], KaggleWord2VecUtility.review_to_wordlist,\\\n",
        "        workers=4)\n",
        "    return clean_reviews"
      ]
    },
    {
      "cell_type": "code",
      "execution_count": null,
      "metadata": {
        "id": "JwPNlSr9P9BT",
        "outputId": "38cebc31-072e-4806-e28a-29208cc68d5a"
      },
      "outputs": [
        {
          "name": "stdout",
          "output_type": "stream",
          "text": [
            "Review 0 of 25000\n",
            "Review 1000 of 25000\n",
            "Review 2000 of 25000\n",
            "Review 3000 of 25000\n",
            "Review 4000 of 25000\n",
            "Review 5000 of 25000\n",
            "Review 6000 of 25000\n",
            "Review 7000 of 25000\n",
            "Review 8000 of 25000\n",
            "Review 9000 of 25000\n",
            "Review 10000 of 25000\n",
            "Review 11000 of 25000\n",
            "Review 12000 of 25000\n",
            "Review 13000 of 25000\n",
            "Review 14000 of 25000\n",
            "Review 15000 of 25000\n",
            "Review 16000 of 25000\n",
            "Review 17000 of 25000\n",
            "Review 18000 of 25000\n",
            "Review 19000 of 25000\n",
            "Review 20000 of 25000\n",
            "Review 21000 of 25000\n",
            "Review 22000 of 25000\n",
            "Review 23000 of 25000\n",
            "Review 24000 of 25000\n",
            "CPU times: user 19.4 s, sys: 877 ms, total: 20.3 s\n",
            "Wall time: 30.8 s\n"
          ]
        }
      ],
      "source": [
        "%time trainDataVecs = getAvgFeatureVecs(\\\n",
        "    getCleanReviews(train), model, num_features ) "
      ]
    },
    {
      "cell_type": "code",
      "execution_count": null,
      "metadata": {
        "id": "57LvFdffP9BT",
        "outputId": "5045b549-ec5a-412e-ba5a-d534ac2e2cdc"
      },
      "outputs": [
        {
          "name": "stdout",
          "output_type": "stream",
          "text": [
            "Review 0 of 25000\n",
            "Review 1000 of 25000\n",
            "Review 2000 of 25000\n",
            "Review 3000 of 25000\n",
            "Review 4000 of 25000\n",
            "Review 5000 of 25000\n",
            "Review 6000 of 25000\n",
            "Review 7000 of 25000\n",
            "Review 8000 of 25000\n",
            "Review 9000 of 25000\n",
            "Review 10000 of 25000\n",
            "Review 11000 of 25000\n",
            "Review 12000 of 25000\n",
            "Review 13000 of 25000\n",
            "Review 14000 of 25000\n",
            "Review 15000 of 25000\n",
            "Review 16000 of 25000\n",
            "Review 17000 of 25000\n",
            "Review 18000 of 25000\n",
            "Review 19000 of 25000\n",
            "Review 20000 of 25000\n",
            "Review 21000 of 25000\n",
            "Review 22000 of 25000\n",
            "Review 23000 of 25000\n",
            "Review 24000 of 25000\n",
            "CPU times: user 19.1 s, sys: 796 ms, total: 19.9 s\n",
            "Wall time: 31.3 s\n"
          ]
        }
      ],
      "source": [
        "%time testDataVecs = getAvgFeatureVecs(\\\n",
        "        getCleanReviews(test), model, num_features )"
      ]
    },
    {
      "cell_type": "code",
      "execution_count": null,
      "metadata": {
        "id": "AH-lOnMjP9BU",
        "outputId": "c4bea02e-20ef-4ab6-9b35-484720f7566f"
      },
      "outputs": [
        {
          "data": {
            "text/plain": [
              "array([[ 0.01448637, -0.01560631,  0.01138243, ...,  0.01953822,\n",
              "        -0.00803707, -0.0081489 ],\n",
              "       [ 0.00258187, -0.01627239,  0.00330325, ...,  0.02285859,\n",
              "         0.00267579, -0.01097857],\n",
              "       [ 0.00520471, -0.00693794,  0.01276291, ..., -0.00283461,\n",
              "        -0.00143303, -0.02050317],\n",
              "       ...,\n",
              "       [ 0.0237492 , -0.0207996 ,  0.0043045 , ...,  0.02448041,\n",
              "        -0.00457632, -0.00180607],\n",
              "       [-0.00349759, -0.02486462,  0.00893537, ...,  0.00799148,\n",
              "         0.00038902, -0.00632917],\n",
              "       [ 0.01193   , -0.0272531 ,  0.00142129, ...,  0.02416597,\n",
              "        -0.00760127, -0.00395839]], dtype=float32)"
            ]
          },
          "execution_count": 32,
          "metadata": {},
          "output_type": "execute_result"
        }
      ],
      "source": [
        "trainDataVecs"
      ]
    },
    {
      "cell_type": "code",
      "execution_count": null,
      "metadata": {
        "id": "gYuLjVvJP9BU"
      },
      "outputs": [],
      "source": [
        "from sklearn.ensemble import RandomForestClassifier\n",
        "\n",
        "forest = RandomForestClassifier(\n",
        "    n_estimators = 100, n_jobs = -1, random_state=2018)"
      ]
    },
    {
      "cell_type": "code",
      "execution_count": null,
      "metadata": {
        "id": "oLNQFv8VP9BV",
        "outputId": "e187dc9c-66ae-4d9a-c0af-524f611c5559"
      },
      "outputs": [
        {
          "name": "stdout",
          "output_type": "stream",
          "text": [
            "CPU times: user 39.6 s, sys: 74 ms, total: 39.6 s\n",
            "Wall time: 3.64 s\n"
          ]
        }
      ],
      "source": [
        "%time forest = forest.fit( trainDataVecs, train[\"sentiment\"] )"
      ]
    },
    {
      "cell_type": "code",
      "execution_count": null,
      "metadata": {
        "id": "hu_snAYzP9BV",
        "outputId": "dbcf5b0c-e9b4-4b7e-9506-c7a6e0dd9ef5"
      },
      "outputs": [
        {
          "name": "stdout",
          "output_type": "stream",
          "text": [
            "CPU times: user 3.53 s, sys: 1.49 s, total: 5.02 s\n",
            "Wall time: 35.5 s\n"
          ]
        }
      ],
      "source": [
        "from sklearn.model_selection import cross_val_score\n",
        "%time score = np.mean(cross_val_score(\\\n",
        "    forest, trainDataVecs, \\\n",
        "    train['sentiment'], cv=10, scoring='roc_auc'))"
      ]
    },
    {
      "cell_type": "code",
      "execution_count": null,
      "metadata": {
        "id": "Jvp4tbRFP9BV",
        "outputId": "aa681b9f-6910-4cb0-caef-c2231e20a3dc"
      },
      "outputs": [
        {
          "data": {
            "text/plain": [
              "0.900178848"
            ]
          },
          "execution_count": 36,
          "metadata": {},
          "output_type": "execute_result"
        }
      ],
      "source": [
        "score"
      ]
    },
    {
      "cell_type": "code",
      "execution_count": null,
      "metadata": {
        "id": "UZming3pP9BW"
      },
      "outputs": [],
      "source": [
        "result = forest.predict( testDataVecs )"
      ]
    },
    {
      "cell_type": "code",
      "execution_count": null,
      "metadata": {
        "id": "Aposw2wIP9BW"
      },
      "outputs": [],
      "source": [
        "output = pd.DataFrame( data={\"id\":test[\"id\"], \"sentiment\":result} )\n",
        "output.to_csv('data/Word2Vec_AverageVectors_{0:.5f}.csv'.format(score), \n",
        "              index=False, quoting=3 )"
      ]
    },
    {
      "cell_type": "code",
      "execution_count": null,
      "metadata": {
        "id": "hVaKKJttP9BX",
        "outputId": "455e3e91-987f-4c3c-fb4b-864b5d345821"
      },
      "outputs": [
        {
          "name": "stdout",
          "output_type": "stream",
          "text": [
            "122\n"
          ]
        },
        {
          "data": {
            "text/plain": [
              "0    12561\n",
              "1    12439\n",
              "Name: sentiment, dtype: int64"
            ]
          },
          "execution_count": 39,
          "metadata": {},
          "output_type": "execute_result"
        }
      ],
      "source": [
        "output_sentiment = output['sentiment'].value_counts()\n",
        "print(output_sentiment[0] - output_sentiment[1])\n",
        "output_sentiment"
      ]
    },
    {
      "cell_type": "code",
      "execution_count": null,
      "metadata": {
        "id": "0nOVLG3kP9BY",
        "outputId": "c54d1d00-8eba-46c2-e005-2321d5df674c"
      },
      "outputs": [
        {
          "data": {
            "text/plain": [
              "<AxesSubplot:xlabel='sentiment', ylabel='count'>"
            ]
          },
          "execution_count": 40,
          "metadata": {},
          "output_type": "execute_result"
        },
        {
          "data": {
            "image/png": "[encoded data removed]",
            "text/plain": [
              "<Figure size 864x360 with 2 Axes>"
            ]
          },
          "metadata": {
            "needs_background": "light"
          },
          "output_type": "display_data"
        }
      ],
      "source": [
        "import seaborn as sns \n",
        "%matplotlib inline\n",
        "\n",
        "fig, axes = plt.subplots(ncols=2)\n",
        "fig.set_size_inches(12,5)\n",
        "sns.countplot(train['sentiment'], ax=axes[0])\n",
        "sns.countplot(output['sentiment'], ax=axes[1])"
      ]
    },
    {
      "cell_type": "code",
      "execution_count": null,
      "metadata": {
        "id": "v4nsDASHP9BY"
      },
      "outputs": [],
      "source": [
        ""
      ]
    }
  ],
  "metadata": {
    "kernelspec": {
      "display_name": "Python 3",
      "language": "python",
      "name": "python3"
    },
    "language_info": {
      "codemirror_mode": {
        "name": "ipython",
        "version": 3
      },
      "file_extension": ".py",
      "mimetype": "text/x-python",
      "name": "python",
      "nbconvert_exporter": "python",
      "pygments_lexer": "ipython3",
      "version": "3.8.5"
    },
    "colab": {
      "name": "Sentiment_Analysis_2.ipynb",
      "provenance": [],
      "include_colab_link": true
    }
  },
  "nbformat": 4,
  "nbformat_minor": 0
}